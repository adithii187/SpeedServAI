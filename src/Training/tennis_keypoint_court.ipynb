{
 "cells": [
  {
   "cell_type": "markdown",
   "metadata": {},
   "source": [
    "## Get the dataset and unzip it"
   ]
  },
  {
   "cell_type": "code",
   "execution_count": 1,
   "metadata": {},
   "outputs": [
    {
     "name": "stdout",
     "output_type": "stream",
     "text": [
      "Requirement already satisfied: ijson in /home/adithi-samudrala/anaconda3/envs/tennis/lib/python3.12/site-packages (3.3.0)\n",
      "Requirement already satisfied: torch in /home/adithi-samudrala/anaconda3/envs/tennis/lib/python3.12/site-packages (2.3.1)\n",
      "Requirement already satisfied: filelock in /home/adithi-samudrala/anaconda3/envs/tennis/lib/python3.12/site-packages (from torch) (3.15.4)\n",
      "Requirement already satisfied: typing-extensions>=4.8.0 in /home/adithi-samudrala/anaconda3/envs/tennis/lib/python3.12/site-packages (from torch) (4.12.2)\n",
      "Requirement already satisfied: sympy in /home/adithi-samudrala/anaconda3/envs/tennis/lib/python3.12/site-packages (from torch) (1.13.0)\n",
      "Requirement already satisfied: networkx in /home/adithi-samudrala/anaconda3/envs/tennis/lib/python3.12/site-packages (from torch) (3.3)\n",
      "Requirement already satisfied: jinja2 in /home/adithi-samudrala/anaconda3/envs/tennis/lib/python3.12/site-packages (from torch) (3.1.4)\n",
      "Requirement already satisfied: fsspec in /home/adithi-samudrala/anaconda3/envs/tennis/lib/python3.12/site-packages (from torch) (2024.6.1)\n",
      "Requirement already satisfied: nvidia-cuda-nvrtc-cu12==12.1.105 in /home/adithi-samudrala/anaconda3/envs/tennis/lib/python3.12/site-packages (from torch) (12.1.105)\n",
      "Requirement already satisfied: nvidia-cuda-runtime-cu12==12.1.105 in /home/adithi-samudrala/anaconda3/envs/tennis/lib/python3.12/site-packages (from torch) (12.1.105)\n",
      "Requirement already satisfied: nvidia-cuda-cupti-cu12==12.1.105 in /home/adithi-samudrala/anaconda3/envs/tennis/lib/python3.12/site-packages (from torch) (12.1.105)\n",
      "Requirement already satisfied: nvidia-cudnn-cu12==8.9.2.26 in /home/adithi-samudrala/anaconda3/envs/tennis/lib/python3.12/site-packages (from torch) (8.9.2.26)\n",
      "Requirement already satisfied: nvidia-cublas-cu12==12.1.3.1 in /home/adithi-samudrala/anaconda3/envs/tennis/lib/python3.12/site-packages (from torch) (12.1.3.1)\n",
      "Requirement already satisfied: nvidia-cufft-cu12==11.0.2.54 in /home/adithi-samudrala/anaconda3/envs/tennis/lib/python3.12/site-packages (from torch) (11.0.2.54)\n",
      "Requirement already satisfied: nvidia-curand-cu12==10.3.2.106 in /home/adithi-samudrala/anaconda3/envs/tennis/lib/python3.12/site-packages (from torch) (10.3.2.106)\n",
      "Requirement already satisfied: nvidia-cusolver-cu12==11.4.5.107 in /home/adithi-samudrala/anaconda3/envs/tennis/lib/python3.12/site-packages (from torch) (11.4.5.107)\n",
      "Requirement already satisfied: nvidia-cusparse-cu12==12.1.0.106 in /home/adithi-samudrala/anaconda3/envs/tennis/lib/python3.12/site-packages (from torch) (12.1.0.106)\n",
      "Requirement already satisfied: nvidia-nccl-cu12==2.20.5 in /home/adithi-samudrala/anaconda3/envs/tennis/lib/python3.12/site-packages (from torch) (2.20.5)\n",
      "Requirement already satisfied: nvidia-nvtx-cu12==12.1.105 in /home/adithi-samudrala/anaconda3/envs/tennis/lib/python3.12/site-packages (from torch) (12.1.105)\n",
      "Requirement already satisfied: nvidia-nvjitlink-cu12 in /home/adithi-samudrala/anaconda3/envs/tennis/lib/python3.12/site-packages (from nvidia-cusolver-cu12==11.4.5.107->torch) (12.5.82)\n",
      "Requirement already satisfied: MarkupSafe>=2.0 in /home/adithi-samudrala/anaconda3/envs/tennis/lib/python3.12/site-packages (from jinja2->torch) (2.1.5)\n",
      "Requirement already satisfied: mpmath<1.4,>=1.1.0 in /home/adithi-samudrala/anaconda3/envs/tennis/lib/python3.12/site-packages (from sympy->torch) (1.3.0)\n"
     ]
    }
   ],
   "source": [
    "!pip install ijson\n",
    "!pip install torch"
   ]
  },
  {
   "cell_type": "code",
   "execution_count": 2,
   "metadata": {},
   "outputs": [],
   "source": [
    "import torch\n",
    "from torch.utils.data import Dataset, DataLoader\n",
    "from torchvision import models , transforms \n",
    "import json\n",
    "import cv2 as cv2\n",
    "import numpy as np "
   ]
  },
  {
   "cell_type": "code",
   "execution_count": 3,
   "metadata": {},
   "outputs": [],
   "source": [
    "device = torch.device(\"cuda\" if torch.cuda.is_available() else \"cpu\")"
   ]
  },
  {
   "cell_type": "markdown",
   "metadata": {},
   "source": [
    "## Creating a torch dataset"
   ]
  },
  {
   "cell_type": "code",
   "execution_count": 4,
   "metadata": {},
   "outputs": [],
   "source": [
    "\n",
    "class keypointdetect(Dataset):\n",
    "    def __init__(self , img_dir , file) -> None:\n",
    "        self.img_dir = img_dir\n",
    "        with open(file , \"r\") as f:\n",
    "            self.data = json.load(f)\n",
    "\n",
    "\n",
    "        self.transform = transforms.Compose(\n",
    "            [\n",
    "                transforms.ToPILImage(),\n",
    "                transforms.Resize((224, 224)),\n",
    "                transforms.ToTensor(),\n",
    "\n",
    "                # default mean and std value\n",
    "                transforms.Normalize(mean=[0.485, 0.456, 0.406], std=[0.229, 0.224, 0.225])\n",
    "            ]\n",
    "        )\n",
    "\n",
    "    def __len__(self):\n",
    "        return len(self.data)\n",
    "\n",
    "    def __getitem__(self , ind):\n",
    "        item = self.data[ind]\n",
    "        img = cv2.imread(f\"{self.img_dir}/{item['id']}.png\")\n",
    "        h , w = img.shape[:2]\n",
    "\n",
    "        img = cv2.cvtColor(img , cv2.COLOR_BGR2RGB) # convert it to RGB format\n",
    "        img = self.transform(img)\n",
    "\n",
    "        # keypoints are in the list -> we need to convert to numpy and also convert nD to 1D\n",
    "        keypoints = np.array(item['kps']).flatten()\n",
    "        keypoints = kps.astype(np.float32)\n",
    "\n",
    "        # adjust the (x, y) of the keypoints as we resize the image \n",
    "        keypoints[::2]*= 224.0/w # adjust x -> skips 2 at a time from 0\n",
    "        keypoints[1::2]*= 224.0/h \n",
    "        return img , keypoints\n",
    "        \n",
    "        "
   ]
  },
  {
   "cell_type": "code",
   "execution_count": 5,
   "metadata": {},
   "outputs": [
    {
     "ename": "NameError",
     "evalue": "name 'KeypointsDataset' is not defined",
     "output_type": "error",
     "traceback": [
      "\u001b[0;31m---------------------------------------------------------------------------\u001b[0m",
      "\u001b[0;31mNameError\u001b[0m                                 Traceback (most recent call last)",
      "Cell \u001b[0;32mIn[5], line 1\u001b[0m\n\u001b[0;32m----> 1\u001b[0m train_dtset \u001b[38;5;241m=\u001b[39m \u001b[43mKeypointsDataset\u001b[49m(\u001b[38;5;124m\"\u001b[39m\u001b[38;5;124mdata/images\u001b[39m\u001b[38;5;124m\"\u001b[39m , \u001b[38;5;124m\"\u001b[39m\u001b[38;5;124mdata/data_train.json\u001b[39m\u001b[38;5;124m\"\u001b[39m)\n\u001b[1;32m      2\u001b[0m val_dtset \u001b[38;5;241m=\u001b[39m KeypointsDataset(\u001b[38;5;124m\"\u001b[39m\u001b[38;5;124mdata/images\u001b[39m\u001b[38;5;124m\"\u001b[39m , \u001b[38;5;124m\"\u001b[39m\u001b[38;5;124mdata/data_val.json\u001b[39m\u001b[38;5;124m\"\u001b[39m)\n\u001b[1;32m      4\u001b[0m train_loader \u001b[38;5;241m=\u001b[39m DataLoader(train_dtset , batch_size\u001b[38;5;241m=\u001b[39m \u001b[38;5;241m8\u001b[39m , shuffle\u001b[38;5;241m=\u001b[39m \u001b[38;5;28;01mTrue\u001b[39;00m)\n",
      "\u001b[0;31mNameError\u001b[0m: name 'KeypointsDataset' is not defined"
     ]
    }
   ],
   "source": [
    "train_dtset = KeypointsDataset(\"data/images\" , \"data/data_train.json\")\n",
    "val_dtset = KeypointsDataset(\"data/images\" , \"data/data_val.json\")\n",
    "\n",
    "train_loader = DataLoader(train_dtset , batch_size= 8 , shuffle= True)\n",
    "val_loader = DataLoader(val_dtset , batch_size= 8 , shuffle= True)\n",
    "\n"
   ]
  },
  {
   "cell_type": "markdown",
   "metadata": {},
   "source": [
    "## Create a model -> Use ResNet\n"
   ]
  },
  {
   "cell_type": "code",
   "execution_count": null,
   "metadata": {},
   "outputs": [],
   "source": [
    "model = models.resnet50(pretrained = True)\n",
    "\n",
    "# we just change the last layer so that we get the 28 vector as prediction \n",
    "# last layer = fully connected\n",
    "model.fc = torch.nn.Linear(model.fc.in_features , 14*2) \n",
    "\n",
    "model = model.to(device)"
   ]
  },
  {
   "cell_type": "markdown",
   "metadata": {},
   "source": [
    "## Training the model"
   ]
  },
  {
   "cell_type": "code",
   "execution_count": null,
   "metadata": {},
   "outputs": [],
   "source": [
    "criterion = torch.nn.MSELoss()\n",
    "optimizer = torch.option.Adam(model.parameters() , lr = 1e-4)\n",
    "\n",
    "epochs = 25\n",
    "\n",
    "for epoch in range(epochs):\n",
    "    for i , (img , keypoints) in enumerate(train_loader):\n",
    "        imgs = imgs.to(device)\n",
    "        keypoints =keypoints.to(device)\n",
    "\n",
    "        optimizer.zero_grad()\n",
    "        outputs = model(imgs)\n",
    "        loss = criterion(outputs , keypoints)\n",
    "\n",
    "        loss.backwards()\n",
    "        optimizer.step()\n",
    "\n",
    "        if(i%10==0):\n",
    "            print(f\"Epochs {epoch} , iter {i} , loss : {loss.item()}\")\n",
    "\n"
   ]
  },
  {
   "cell_type": "code",
   "execution_count": null,
   "metadata": {},
   "outputs": [],
   "source": [
    "model.save(model._save_to_state_dict() , \"Keypoints_detect.pth\")"
   ]
  }
 ],
 "metadata": {
  "kernelspec": {
   "display_name": "tennis",
   "language": "python",
   "name": "python3"
  },
  "language_info": {
   "codemirror_mode": {
    "name": "ipython",
    "version": 3
   },
   "file_extension": ".py",
   "mimetype": "text/x-python",
   "name": "python",
   "nbconvert_exporter": "python",
   "pygments_lexer": "ipython3",
   "version": "3.12.4"
  }
 },
 "nbformat": 4,
 "nbformat_minor": 2
}
